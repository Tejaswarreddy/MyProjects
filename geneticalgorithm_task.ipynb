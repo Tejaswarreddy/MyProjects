{
  "nbformat": 4,
  "nbformat_minor": 0,
  "metadata": {
    "colab": {
      "provenance": [],
      "authorship_tag": "ABX9TyN0g407ZoJxVqyz19MWCvsN",
      "include_colab_link": true
    },
    "kernelspec": {
      "name": "python3",
      "display_name": "Python 3"
    },
    "language_info": {
      "name": "python"
    }
  },
  "cells": [
    {
      "cell_type": "markdown",
      "metadata": {
        "id": "view-in-github",
        "colab_type": "text"
      },
      "source": [
        "<a href=\"https://colab.research.google.com/github/Tejaswarreddy/MyProjects/blob/main/geneticalgorithm_task.ipynb\" target=\"_parent\"><img src=\"https://colab.research.google.com/assets/colab-badge.svg\" alt=\"Open In Colab\"/></a>"
      ]
    },
    {
      "cell_type": "code",
      "execution_count": 2,
      "metadata": {
        "colab": {
          "base_uri": "https://localhost:8080/"
        },
        "id": "dxINv_Iu4ySP",
        "outputId": "a26765a9-0d87-43c5-bb5c-fccad6fc460a"
      },
      "outputs": [
        {
          "output_type": "stream",
          "name": "stdout",
          "text": [
            "Collecting pygad\n",
            "  Downloading pygad-3.1.0-py3-none-any.whl (73 kB)\n",
            "\u001b[?25l     \u001b[90m━━━━━━━━━━━━━━━━━━━━━━━━━━━━━━━━━━━━━━━━\u001b[0m \u001b[32m0.0/73.0 kB\u001b[0m \u001b[31m?\u001b[0m eta \u001b[36m-:--:--\u001b[0m\r\u001b[2K     \u001b[91m━━━━━━━━━━━━━━━━━━━━━━━━━━━━━━━━━━━━━━━\u001b[0m\u001b[90m╺\u001b[0m \u001b[32m71.7/73.0 kB\u001b[0m \u001b[31m2.2 MB/s\u001b[0m eta \u001b[36m0:00:01\u001b[0m\r\u001b[2K     \u001b[90m━━━━━━━━━━━━━━━━━━━━━━━━━━━━━━━━━━━━━━━━\u001b[0m \u001b[32m73.0/73.0 kB\u001b[0m \u001b[31m1.6 MB/s\u001b[0m eta \u001b[36m0:00:00\u001b[0m\n",
            "\u001b[?25hRequirement already satisfied: cloudpickle in /usr/local/lib/python3.10/dist-packages (from pygad) (2.2.1)\n",
            "Requirement already satisfied: matplotlib in /usr/local/lib/python3.10/dist-packages (from pygad) (3.7.1)\n",
            "Requirement already satisfied: numpy in /usr/local/lib/python3.10/dist-packages (from pygad) (1.23.5)\n",
            "Requirement already satisfied: contourpy>=1.0.1 in /usr/local/lib/python3.10/dist-packages (from matplotlib->pygad) (1.1.0)\n",
            "Requirement already satisfied: cycler>=0.10 in /usr/local/lib/python3.10/dist-packages (from matplotlib->pygad) (0.11.0)\n",
            "Requirement already satisfied: fonttools>=4.22.0 in /usr/local/lib/python3.10/dist-packages (from matplotlib->pygad) (4.42.1)\n",
            "Requirement already satisfied: kiwisolver>=1.0.1 in /usr/local/lib/python3.10/dist-packages (from matplotlib->pygad) (1.4.4)\n",
            "Requirement already satisfied: packaging>=20.0 in /usr/local/lib/python3.10/dist-packages (from matplotlib->pygad) (23.1)\n",
            "Requirement already satisfied: pillow>=6.2.0 in /usr/local/lib/python3.10/dist-packages (from matplotlib->pygad) (9.4.0)\n",
            "Requirement already satisfied: pyparsing>=2.3.1 in /usr/local/lib/python3.10/dist-packages (from matplotlib->pygad) (3.1.1)\n",
            "Requirement already satisfied: python-dateutil>=2.7 in /usr/local/lib/python3.10/dist-packages (from matplotlib->pygad) (2.8.2)\n",
            "Requirement already satisfied: six>=1.5 in /usr/local/lib/python3.10/dist-packages (from python-dateutil>=2.7->matplotlib->pygad) (1.16.0)\n",
            "Installing collected packages: pygad\n",
            "Successfully installed pygad-3.1.0\n"
          ]
        }
      ],
      "source": [
        "pip install pygad"
      ]
    },
    {
      "cell_type": "code",
      "source": [
        "import pygad\n",
        "import numpy as np\n",
        "\n",
        "def obj(ga_instance,solution,solution_idx):\n",
        "  x,y,z = solution\n",
        "  return -(x**2+y**2+z)\n",
        "def constraint(solution,solution_idx):\n",
        "  x,y,z = solution\n",
        "  constraint1 = x+2*y-100\n",
        "  constraint2 = x-y-50\n",
        "  if constraint1 <= 0 and constraint2 >0 :\n",
        "    return True\n",
        "  else:\n",
        "    return False\n",
        "\n",
        "best_solution = None\n",
        "best_objective_value = float(\"-inf\")  # Initialize with negative infinity\n",
        "\n",
        "def callback_generation(ga_instance):\n",
        "    global best_solution, best_objective_value\n",
        "    # Get the best solution and its fitness for the current generation\n",
        "    best_sln, best_fitness = ga_instance.best_solution()\n",
        "    # If the current best fitness is better than the previous best, update the variables\n",
        "    if best_fitness > best_objective_value:\n",
        "        best_solution = best_sln.copy()\n",
        "        best_objective_value = best_fitness\n",
        "\n",
        "\n",
        "ga_instance = pygad.GA(num_generations=50,\n",
        "                       num_parents_mating=4,\n",
        "                       fitness_func=obj,\n",
        "                       sol_per_pop=20,\n",
        "                       num_genes=3,\n",
        "                       gene_type=np.float32,\n",
        "                       gene_space=[(-100, 100), (-100, 100),(-100,100)],  # Constraints for x and y\n",
        "                       parent_selection_type=\"rank\",\n",
        "                       crossover_type=\"two_points\",\n",
        "                       mutation_type=\"random\",\n",
        "                       mutation_percent_genes=10,\n",
        "                       mutation_num_genes = 1)\n",
        "ga_instance.run()\n",
        "# best_solution, best_objective_value = ga_instance.best_solution()\n",
        "\n",
        "# print(\"Best Solution:\", best_solution)\n",
        "# print(\"Best Objective Value:\", -best_objective_value)\n",
        "print(ga_instance.best_solution())\n"
      ],
      "metadata": {
        "colab": {
          "base_uri": "https://localhost:8080/"
        },
        "id": "l-P2mrI25KMH",
        "outputId": "fced791f-0d5b-4123-9d2a-e6dc42d8e421"
      },
      "execution_count": 9,
      "outputs": [
        {
          "output_type": "stream",
          "name": "stdout",
          "text": [
            "(array([ 100., -100., -100.], dtype=float32), -19900.0, 0)\n"
          ]
        }
      ]
    },
    {
      "cell_type": "code",
      "source": [
        "import pygad\n",
        "import numpy as np\n",
        "\n",
        "# Define the objective function\n",
        "def objective_function(solution, solution_idx):\n",
        "    x, y, z = solution\n",
        "    return -(x**2 + y**2 + z)\n",
        "\n",
        "# Define the constraints\n",
        "def constraint1(solution, solution_idx):\n",
        "    x, y, _ = solution\n",
        "    return 100 - x - 2*y\n",
        "\n",
        "def constraint2(solution, solution_idx):\n",
        "    x, y, _ = solution\n",
        "    return x - y - 50\n",
        "\n",
        "# Define the problem dimensions and ranges\n",
        "num_genes = 3  # Number of variables: x, y, z\n",
        "gene_space = [{'low': -100, 'high': 100},  # Range for x\n",
        "              {'low': -100, 'high': 100},  # Range for y\n",
        "              {'low': -100, 'high': 100}]  # Range for z\n",
        "\n",
        "# Create a PyGAD fitness function that considers constraints\n",
        "def fitness_function(ga_instance,solution, solution_idx):\n",
        "    penalty = 0\n",
        "    c1 = constraint1(solution, solution_idx)\n",
        "    c2 = constraint2(solution, solution_idx)\n",
        "\n",
        "    # Penalize solutions that violate constraints\n",
        "    if c1 < 0:\n",
        "        penalty += abs(c1) * 10  # Increase the penalty for constraint1\n",
        "    if c2 < 0:\n",
        "        penalty += abs(c2) * 10  # Increase the penalty for constraint2\n",
        "\n",
        "    objective_val = objective_function(solution, solution_idx)\n",
        "\n",
        "    # Subtract the penalty from the objective value to maximize\n",
        "    fitness = objective_val - penalty\n",
        "    return fitness\n",
        "\n",
        "# Create a PyGAD instance\n",
        "ga_instance = pygad.GA(num_generations=100,\n",
        "                       num_parents_mating=7,\n",
        "                       fitness_func=fitness_function,\n",
        "                       sol_per_pop=50,\n",
        "                       num_genes=num_genes,\n",
        "                       gene_space=gene_space,\n",
        "                       parent_selection_type=\"sss\",\n",
        "                       keep_parents=7,\n",
        "                       crossover_type=\"single_point\",\n",
        "                       mutation_type=\"random\",\n",
        "                       mutation_percent_genes=10)\n",
        "\n",
        "# Run the genetic algorithm\n",
        "ga_instance.run()\n",
        "\n",
        "# Get the best solution and its fitness\n",
        "sol, sol_fitness, sol_idx = ga_instance.best_solution()\n",
        "\n",
        "# Print the results\n",
        "print(\"Objective Value:\", -sol_fitness)\n",
        "print(\"Values of Variables (x, y, z):\", sol)\n"
      ],
      "metadata": {
        "colab": {
          "base_uri": "https://localhost:8080/"
        },
        "id": "bj8gQZvC9aS6",
        "outputId": "62624766-7da4-4514-e7b6-be3a5abdf81e"
      },
      "execution_count": null,
      "outputs": [
        {
          "output_type": "stream",
          "name": "stderr",
          "text": [
            "/usr/local/lib/python3.10/dist-packages/pygad/pygad.py:738: UserWarning: The percentage of genes to mutate (mutation_percent_genes=10) resutled in selecting (0) genes. The number of genes to mutate is set to 1 (mutation_num_genes=1).\n",
            "If you do not want to mutate any gene, please set mutation_type=None.\n",
            "  warnings.warn(f\"The percentage of genes to mutate (mutation_percent_genes={mutation_percent_genes}) resutled in selecting ({mutation_num_genes}) genes. The number of genes to mutate is set to 1 (mutation_num_genes=1).\\nIf you do not want to mutate any gene, please set mutation_type=None.\")\n"
          ]
        },
        {
          "output_type": "stream",
          "name": "stdout",
          "text": [
            "Objective Value: 350.87920302222483\n",
            "Values of Variables (x, y, z): [  5.10337334  -4.78424126 -99.17803486]\n"
          ]
        }
      ]
    },
    {
      "cell_type": "code",
      "source": [
        "import pygad\n",
        "import numpy as np\n",
        "\n",
        "def objective_function(solution, solution_idx):\n",
        "    x, y, z = solution\n",
        "    return -(x**2 + y**2 + z)\n",
        "\n",
        "def constraint1(solution, solution_idx):\n",
        "    x, y, _ = solution\n",
        "    return 100 - x - 2*y\n",
        "\n",
        "def constraint2(solution, solution_idx):\n",
        "    x, y, _ = solution\n",
        "    return x - y - 50\n",
        "\n",
        "num_genes = 3\n",
        "gene_space = [{'low': -100, 'high': 100},\n",
        "              {'low': -100, 'high': 100},\n",
        "              {'low': -100, 'high': 100}]\n",
        "\n",
        "def fitness_function(ga_instance,solution, solution_idx):\n",
        "    penalty = 0\n",
        "    c1 = constraint1(solution, solution_idx)\n",
        "    c2 = constraint2(solution, solution_idx)\n",
        "\n",
        "    if c1 < 0:\n",
        "        penalty += abs(c1) * 10\n",
        "    if c2 < 0:\n",
        "        penalty += abs(c2) * 10\n",
        "\n",
        "    objective_val = objective_function(solution, solution_idx)\n",
        "\n",
        "    fitness = objective_val - penalty\n",
        "    return fitness\n",
        "\n",
        "ga_instance = pygad.GA(num_generations=100,\n",
        "                       num_parents_mating=7,\n",
        "                       fitness_func=fitness_function,\n",
        "                       sol_per_pop=50,\n",
        "                       num_genes=num_genes,\n",
        "                       gene_space=gene_space,\n",
        "                       parent_selection_type=\"sss\",\n",
        "                       keep_parents=7,\n",
        "                       crossover_type=\"two_points\",\n",
        "                       mutation_type=\"random\",\n",
        "                       mutation_percent_genes=10)\n",
        "\n",
        "ga_instance.run()\n",
        "\n",
        "sol, sol_fitness, sol_idx = ga_instance.best_solution()\n",
        "\n",
        "print(\"Objective Value:\", -sol_fitness)\n",
        "print(\"Values of Variables (x, y, z):\", sol)\n"
      ],
      "metadata": {
        "colab": {
          "base_uri": "https://localhost:8080/"
        },
        "id": "DGtZZg-X972G",
        "outputId": "41b3894e-66ad-4118-a489-f5cf5dde28a3"
      },
      "execution_count": null,
      "outputs": [
        {
          "output_type": "stream",
          "name": "stderr",
          "text": [
            "/usr/local/lib/python3.10/dist-packages/pygad/pygad.py:738: UserWarning: The percentage of genes to mutate (mutation_percent_genes=10) resutled in selecting (0) genes. The number of genes to mutate is set to 1 (mutation_num_genes=1).\n",
            "If you do not want to mutate any gene, please set mutation_type=None.\n",
            "  warnings.warn(f\"The percentage of genes to mutate (mutation_percent_genes={mutation_percent_genes}) resutled in selecting ({mutation_num_genes}) genes. The number of genes to mutate is set to 1 (mutation_num_genes=1).\\nIf you do not want to mutate any gene, please set mutation_type=None.\")\n"
          ]
        },
        {
          "output_type": "stream",
          "name": "stdout",
          "text": [
            "Objective Value: 350.2779597023761\n",
            "Values of Variables (x, y, z): [  5.2479738   -5.30669082 -99.87759057]\n"
          ]
        }
      ]
    },
    {
      "cell_type": "code",
      "source": [
        "import pygad\n",
        "import numpy as np\n",
        "\n",
        "def obj(ga_instance,solution,solution_idx):\n",
        "    x, y, z = solution\n",
        "    return -(x**2 + y**2 + z)\n",
        "\n",
        "def constraint(solution):\n",
        "    x, y, z = solution\n",
        "    constraint1 = x + 2*y - 100\n",
        "    constraint2 = x - y - 50\n",
        "    if constraint1 <= 0 and constraint2 > 0:\n",
        "        return True\n",
        "    else:\n",
        "        return False\n",
        "\n",
        "# Initialize variables to track the best solution and its objective value\n",
        "best_solution = None\n",
        "best_objective_value = float(\"-inf\")  # Initialize with negative infinity\n",
        "\n",
        "def callback_generation(ga_instance):\n",
        "    global best_solution, best_objective_value\n",
        "    # Get the best solution and its fitness for the current generation\n",
        "    best_sln, best_fitness,best = ga_instance.best_solution()\n",
        "    # If the current best fitness is better than the previous best, update the variables\n",
        "    if best_fitness > best_objective_value:\n",
        "        best_solution = best_sln.copy()\n",
        "        best_objective_value = best_fitness\n",
        "\n",
        "# Create a custom callback function for tracking the best solution\n",
        "ga_instance = pygad.GA(num_generations=50,\n",
        "                       num_parents_mating=4,\n",
        "                       fitness_func=obj,\n",
        "                       sol_per_pop=20,\n",
        "                       num_genes=3,\n",
        "                       gene_type=np.float32,\n",
        "                       gene_space=[(-100, 100), (-100, 100), (-100, 100)],  # Constraints for x, y, and z\n",
        "                       parent_selection_type=\"rank\",\n",
        "                       crossover_type=\"two_points\",\n",
        "                       mutation_type=\"random\",\n",
        "                       mutation_percent_genes=0,  # Set to 0 to disable percentage-based mutation\n",
        "                       mutation_num_genes=1,  # Specify the number of genes to mutate per mutation\n",
        "                       on_generation=callback_generation)\n",
        "\n",
        "ga_instance.run()\n",
        "\n",
        "print(\"Best Solution:\", best_solution)\n",
        "print(\"Best Objective Value:\", -best_objective_value)\n"
      ],
      "metadata": {
        "colab": {
          "base_uri": "https://localhost:8080/"
        },
        "id": "dTTQU1IOI69N",
        "outputId": "57db1823-3eaa-4948-c509-7fca22bb174c"
      },
      "execution_count": 12,
      "outputs": [
        {
          "output_type": "stream",
          "name": "stdout",
          "text": [
            "Best Solution: [-100.  100. -100.]\n",
            "Best Objective Value: 19900.0\n"
          ]
        }
      ]
    }
  ]
}